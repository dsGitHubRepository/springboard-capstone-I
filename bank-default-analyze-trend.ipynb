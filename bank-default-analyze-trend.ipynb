{
 "cells": [
  {
   "cell_type": "code",
   "execution_count": 181,
   "id": "70ca44c1",
   "metadata": {},
   "outputs": [],
   "source": [
    "import pandas as pd\n",
    "import numpy as np\n",
    "from numpy.random import seed\n",
    "\n",
    "import warnings\n",
    "warnings.filterwarnings(\"ignore\")\n",
    "\n",
    "import matplotlib.pyplot as plt\n",
    "import seaborn as sns"
   ]
  },
  {
   "cell_type": "code",
   "execution_count": 182,
   "id": "30cc616f",
   "metadata": {},
   "outputs": [],
   "source": [
    "seed(100)"
   ]
  },
  {
   "cell_type": "code",
   "execution_count": 183,
   "id": "62b96fc0",
   "metadata": {},
   "outputs": [
    {
     "data": {
      "text/html": [
       "<div>\n",
       "<style scoped>\n",
       "    .dataframe tbody tr th:only-of-type {\n",
       "        vertical-align: middle;\n",
       "    }\n",
       "\n",
       "    .dataframe tbody tr th {\n",
       "        vertical-align: top;\n",
       "    }\n",
       "\n",
       "    .dataframe thead th {\n",
       "        text-align: right;\n",
       "    }\n",
       "</style>\n",
       "<table border=\"1\" class=\"dataframe\">\n",
       "  <thead>\n",
       "    <tr style=\"text-align: right;\">\n",
       "      <th></th>\n",
       "      <th>LIMIT_BAL</th>\n",
       "      <th>SEX</th>\n",
       "      <th>EDUCATION</th>\n",
       "      <th>MARRIAGE</th>\n",
       "      <th>AGE</th>\n",
       "      <th>PAY_0</th>\n",
       "      <th>PAY_2</th>\n",
       "      <th>PAY_3</th>\n",
       "      <th>PAY_4</th>\n",
       "      <th>PAY_5</th>\n",
       "      <th>...</th>\n",
       "      <th>b4</th>\n",
       "      <th>b5</th>\n",
       "      <th>ta0</th>\n",
       "      <th>ta1</th>\n",
       "      <th>ta2</th>\n",
       "      <th>ta3</th>\n",
       "      <th>ta4</th>\n",
       "      <th>ta5</th>\n",
       "      <th>SC</th>\n",
       "      <th>default payment next month</th>\n",
       "    </tr>\n",
       "  </thead>\n",
       "  <tbody>\n",
       "    <tr>\n",
       "      <th>0</th>\n",
       "      <td>20000</td>\n",
       "      <td>2</td>\n",
       "      <td>2</td>\n",
       "      <td>1</td>\n",
       "      <td>24</td>\n",
       "      <td>2</td>\n",
       "      <td>2</td>\n",
       "      <td>-1</td>\n",
       "      <td>-1</td>\n",
       "      <td>-2</td>\n",
       "      <td>...</td>\n",
       "      <td>1</td>\n",
       "      <td>1</td>\n",
       "      <td>0</td>\n",
       "      <td>0</td>\n",
       "      <td>0</td>\n",
       "      <td>1</td>\n",
       "      <td>1</td>\n",
       "      <td>1</td>\n",
       "      <td>0</td>\n",
       "      <td>1</td>\n",
       "    </tr>\n",
       "    <tr>\n",
       "      <th>1</th>\n",
       "      <td>120000</td>\n",
       "      <td>2</td>\n",
       "      <td>2</td>\n",
       "      <td>2</td>\n",
       "      <td>26</td>\n",
       "      <td>-1</td>\n",
       "      <td>2</td>\n",
       "      <td>0</td>\n",
       "      <td>0</td>\n",
       "      <td>0</td>\n",
       "      <td>...</td>\n",
       "      <td>0</td>\n",
       "      <td>0</td>\n",
       "      <td>0</td>\n",
       "      <td>0</td>\n",
       "      <td>0</td>\n",
       "      <td>0</td>\n",
       "      <td>0</td>\n",
       "      <td>0</td>\n",
       "      <td>0</td>\n",
       "      <td>1</td>\n",
       "    </tr>\n",
       "    <tr>\n",
       "      <th>2</th>\n",
       "      <td>90000</td>\n",
       "      <td>2</td>\n",
       "      <td>2</td>\n",
       "      <td>2</td>\n",
       "      <td>34</td>\n",
       "      <td>0</td>\n",
       "      <td>0</td>\n",
       "      <td>0</td>\n",
       "      <td>0</td>\n",
       "      <td>0</td>\n",
       "      <td>...</td>\n",
       "      <td>0</td>\n",
       "      <td>0</td>\n",
       "      <td>0</td>\n",
       "      <td>0</td>\n",
       "      <td>0</td>\n",
       "      <td>0</td>\n",
       "      <td>0</td>\n",
       "      <td>0</td>\n",
       "      <td>0</td>\n",
       "      <td>0</td>\n",
       "    </tr>\n",
       "    <tr>\n",
       "      <th>3</th>\n",
       "      <td>50000</td>\n",
       "      <td>2</td>\n",
       "      <td>2</td>\n",
       "      <td>1</td>\n",
       "      <td>37</td>\n",
       "      <td>0</td>\n",
       "      <td>0</td>\n",
       "      <td>0</td>\n",
       "      <td>0</td>\n",
       "      <td>0</td>\n",
       "      <td>...</td>\n",
       "      <td>0</td>\n",
       "      <td>0</td>\n",
       "      <td>0</td>\n",
       "      <td>0</td>\n",
       "      <td>0</td>\n",
       "      <td>0</td>\n",
       "      <td>0</td>\n",
       "      <td>0</td>\n",
       "      <td>0</td>\n",
       "      <td>0</td>\n",
       "    </tr>\n",
       "    <tr>\n",
       "      <th>4</th>\n",
       "      <td>50000</td>\n",
       "      <td>1</td>\n",
       "      <td>2</td>\n",
       "      <td>1</td>\n",
       "      <td>57</td>\n",
       "      <td>-1</td>\n",
       "      <td>0</td>\n",
       "      <td>-1</td>\n",
       "      <td>0</td>\n",
       "      <td>0</td>\n",
       "      <td>...</td>\n",
       "      <td>0</td>\n",
       "      <td>0</td>\n",
       "      <td>0</td>\n",
       "      <td>1</td>\n",
       "      <td>0</td>\n",
       "      <td>0</td>\n",
       "      <td>0</td>\n",
       "      <td>0</td>\n",
       "      <td>0</td>\n",
       "      <td>0</td>\n",
       "    </tr>\n",
       "  </tbody>\n",
       "</table>\n",
       "<p>5 rows × 43 columns</p>\n",
       "</div>"
      ],
      "text/plain": [
       "   LIMIT_BAL  SEX  EDUCATION  MARRIAGE  AGE  PAY_0  PAY_2  PAY_3  PAY_4  \\\n",
       "0      20000    2          2         1   24      2      2     -1     -1   \n",
       "1     120000    2          2         2   26     -1      2      0      0   \n",
       "2      90000    2          2         2   34      0      0      0      0   \n",
       "3      50000    2          2         1   37      0      0      0      0   \n",
       "4      50000    1          2         1   57     -1      0     -1      0   \n",
       "\n",
       "   PAY_5  ...  b4  b5  ta0  ta1  ta2  ta3  ta4  ta5  SC  \\\n",
       "0     -2  ...   1   1    0    0    0    1    1    1   0   \n",
       "1      0  ...   0   0    0    0    0    0    0    0   0   \n",
       "2      0  ...   0   0    0    0    0    0    0    0   0   \n",
       "3      0  ...   0   0    0    0    0    0    0    0   0   \n",
       "4      0  ...   0   0    0    1    0    0    0    0   0   \n",
       "\n",
       "   default payment next month  \n",
       "0                           1  \n",
       "1                           1  \n",
       "2                           0  \n",
       "3                           0  \n",
       "4                           0  \n",
       "\n",
       "[5 rows x 43 columns]"
      ]
     },
     "execution_count": 183,
     "metadata": {},
     "output_type": "execute_result"
    }
   ],
   "source": [
    "df = pd.read_csv(\"default_of_credit_card_client_processed.csv\")\n",
    "del df['Unnamed: 0']\n",
    "del df['ID']\n",
    "df.head()"
   ]
  },
  {
   "cell_type": "code",
   "execution_count": 184,
   "id": "09fccc5c",
   "metadata": {},
   "outputs": [
    {
     "data": {
      "text/plain": [
       "array(['LIMIT_BAL', 'SEX', 'EDUCATION', 'MARRIAGE', 'AGE', 'PAY_0',\n",
       "       'PAY_2', 'PAY_3', 'PAY_4', 'PAY_5', 'PAY_6', 'BILL_AMT1',\n",
       "       'BILL_AMT2', 'BILL_AMT3', 'BILL_AMT4', 'BILL_AMT5', 'BILL_AMT6',\n",
       "       'PAY_AMT1', 'PAY_AMT2', 'PAY_AMT3', 'PAY_AMT4', 'PAY_AMT5',\n",
       "       'PAY_AMT6', 'p0', 'p1', 'p2', 'p3', 'p4', 'p5', 'b0', 'b1', 'b2',\n",
       "       'b3', 'b4', 'b5', 'ta0', 'ta1', 'ta2', 'ta3', 'ta4', 'ta5', 'SC',\n",
       "       'default payment next month'], dtype='<U26')"
      ]
     },
     "execution_count": 184,
     "metadata": {},
     "output_type": "execute_result"
    }
   ],
   "source": [
    "cols = np.transpose(df.columns.tolist())\n",
    "cols"
   ]
  },
  {
   "cell_type": "code",
   "execution_count": 185,
   "id": "2784218e",
   "metadata": {},
   "outputs": [
    {
     "data": {
      "text/html": [
       "<div>\n",
       "<style scoped>\n",
       "    .dataframe tbody tr th:only-of-type {\n",
       "        vertical-align: middle;\n",
       "    }\n",
       "\n",
       "    .dataframe tbody tr th {\n",
       "        vertical-align: top;\n",
       "    }\n",
       "\n",
       "    .dataframe thead th {\n",
       "        text-align: right;\n",
       "    }\n",
       "</style>\n",
       "<table border=\"1\" class=\"dataframe\">\n",
       "  <thead>\n",
       "    <tr style=\"text-align: right;\">\n",
       "      <th></th>\n",
       "      <th>ta0</th>\n",
       "      <th>ta1</th>\n",
       "      <th>ta2</th>\n",
       "      <th>ta3</th>\n",
       "      <th>ta4</th>\n",
       "      <th>ta5</th>\n",
       "    </tr>\n",
       "  </thead>\n",
       "  <tbody>\n",
       "    <tr>\n",
       "      <th>0</th>\n",
       "      <td>0</td>\n",
       "      <td>0</td>\n",
       "      <td>0</td>\n",
       "      <td>1</td>\n",
       "      <td>1</td>\n",
       "      <td>1</td>\n",
       "    </tr>\n",
       "    <tr>\n",
       "      <th>1</th>\n",
       "      <td>0</td>\n",
       "      <td>0</td>\n",
       "      <td>0</td>\n",
       "      <td>0</td>\n",
       "      <td>0</td>\n",
       "      <td>0</td>\n",
       "    </tr>\n",
       "    <tr>\n",
       "      <th>2</th>\n",
       "      <td>0</td>\n",
       "      <td>0</td>\n",
       "      <td>0</td>\n",
       "      <td>0</td>\n",
       "      <td>0</td>\n",
       "      <td>0</td>\n",
       "    </tr>\n",
       "    <tr>\n",
       "      <th>3</th>\n",
       "      <td>0</td>\n",
       "      <td>0</td>\n",
       "      <td>0</td>\n",
       "      <td>0</td>\n",
       "      <td>0</td>\n",
       "      <td>0</td>\n",
       "    </tr>\n",
       "    <tr>\n",
       "      <th>4</th>\n",
       "      <td>0</td>\n",
       "      <td>1</td>\n",
       "      <td>0</td>\n",
       "      <td>0</td>\n",
       "      <td>0</td>\n",
       "      <td>0</td>\n",
       "    </tr>\n",
       "  </tbody>\n",
       "</table>\n",
       "</div>"
      ],
      "text/plain": [
       "   ta0  ta1  ta2  ta3  ta4  ta5\n",
       "0    0    0    0    1    1    1\n",
       "1    0    0    0    0    0    0\n",
       "2    0    0    0    0    0    0\n",
       "3    0    0    0    0    0    0\n",
       "4    0    1    0    0    0    0"
      ]
     },
     "execution_count": 185,
     "metadata": {},
     "output_type": "execute_result"
    }
   ],
   "source": [
    "df[cols[35:41]].head()"
   ]
  },
  {
   "cell_type": "code",
   "execution_count": 186,
   "id": "1fad4c23",
   "metadata": {},
   "outputs": [],
   "source": [
    "def ret_nd(dfx, cols, idx):\n",
    "    x = dfx[cols[idx]].value_counts().sort_index(ascending=True).values[1]/len(dfx)\n",
    "    return x"
   ]
  },
  {
   "cell_type": "code",
   "execution_count": 187,
   "id": "39626a86",
   "metadata": {},
   "outputs": [
    {
     "data": {
      "text/plain": [
       "[35, 36, 37, 38, 39, 40]"
      ]
     },
     "execution_count": 187,
     "metadata": {},
     "output_type": "execute_result"
    }
   ],
   "source": [
    "cols1 = np.arange(35, 41).tolist()\n",
    "cols1"
   ]
  },
  {
   "cell_type": "markdown",
   "id": "bc2165a8",
   "metadata": {},
   "source": [
    "# EDUCATION"
   ]
  },
  {
   "cell_type": "code",
   "execution_count": 188,
   "id": "2d7658e4",
   "metadata": {},
   "outputs": [
    {
     "data": {
      "text/plain": [
       "[2, 1, 3]"
      ]
     },
     "execution_count": 188,
     "metadata": {},
     "output_type": "execute_result"
    }
   ],
   "source": [
    "idx_e = df[\"EDUCATION\"].value_counts().sort_values(ascending=False).index.tolist()[0:3]\n",
    "idx_e"
   ]
  },
  {
   "cell_type": "code",
   "execution_count": 189,
   "id": "cdc9e8c2",
   "metadata": {},
   "outputs": [
    {
     "data": {
      "text/plain": [
       "<seaborn.axisgrid.FacetGrid at 0x7ff73f98a790>"
      ]
     },
     "execution_count": 189,
     "metadata": {},
     "output_type": "execute_result"
    },
    {
     "data": {
      "image/png": "[encoded data removed]",
      "text/plain": [
       "<Figure size 1520x216 with 7 Axes>"
      ]
     },
     "metadata": {
      "needs_background": "light"
     },
     "output_type": "display_data"
    }
   ],
   "source": [
    "egr = sns.FacetGrid(df, col = 'EDUCATION')\n",
    "egr.map(plt.hist, 'AGE', alpha=0.8, bins=20, color=\"red\")\n",
    "egr.add_legend()"
   ]
  },
  {
   "cell_type": "code",
   "execution_count": 190,
   "id": "12a0d774",
   "metadata": {},
   "outputs": [
    {
     "data": {
      "text/plain": [
       "0    0.251733\n",
       "1    0.096931\n",
       "Name: ta1, dtype: float64"
      ]
     },
     "execution_count": 190,
     "metadata": {},
     "output_type": "execute_result"
    }
   ],
   "source": [
    "df[df[\"EDUCATION\"]==1][cols[36]].value_counts()/len(df)"
   ]
  },
  {
   "cell_type": "code",
   "execution_count": 191,
   "id": "cd660390",
   "metadata": {},
   "outputs": [
    {
     "data": {
      "text/plain": [
       "0    0.345198\n",
       "1    0.003467\n",
       "Name: SC, dtype: float64"
      ]
     },
     "execution_count": 191,
     "metadata": {},
     "output_type": "execute_result"
    }
   ],
   "source": [
    "df[df[\"EDUCATION\"]==1][cols[41]].value_counts()/len(df)"
   ]
  },
  {
   "cell_type": "code",
   "execution_count": 193,
   "id": "cb38f08c",
   "metadata": {},
   "outputs": [],
   "source": [
    "xr = []\n",
    "for i in idx_e: \n",
    "    dfx = df[df[\"EDUCATION\"]==i]\n",
    "    for idx in cols1: \n",
    "        xr.append(ret_nd(dfx, cols, idx))"
   ]
  },
  {
   "cell_type": "code",
   "execution_count": 194,
   "id": "1513d215",
   "metadata": {},
   "outputs": [
    {
     "data": {
      "text/plain": [
       "[0.1176556243174372,\n",
       " 0.1560247542773935,\n",
       " 0.1641062977793957,\n",
       " 0.17451765562431742,\n",
       " 0.19446669093556607,\n",
       " 0.2168183472879505,\n",
       " 0.1993502658003544,\n",
       " 0.2780074817877535,\n",
       " 0.2710179169127781,\n",
       " 0.27170702894270526,\n",
       " 0.2916912778105926,\n",
       " 0.30891907855877143,\n",
       " 0.11389759665621735,\n",
       " 0.1554858934169279,\n",
       " 0.1657262277951933,\n",
       " 0.17847439916405433,\n",
       " 0.19373040752351098,\n",
       " 0.22027168234064787]"
      ]
     },
     "execution_count": 194,
     "metadata": {},
     "output_type": "execute_result"
    }
   ],
   "source": [
    "xr"
   ]
  },
  {
   "cell_type": "code",
   "execution_count": 198,
   "id": "918eeab1",
   "metadata": {},
   "outputs": [
    {
     "data": {
      "text/plain": [
       "(3, 6)"
      ]
     },
     "execution_count": 198,
     "metadata": {},
     "output_type": "execute_result"
    }
   ],
   "source": [
    "xr1 = np.reshape(xr, (3,6))\n",
    "xr1.shape"
   ]
  },
  {
   "cell_type": "code",
   "execution_count": 201,
   "id": "458178d8",
   "metadata": {},
   "outputs": [
    {
     "data": {
      "text/plain": [
       "array([0.11765562, 0.15602475, 0.1641063 , 0.17451766, 0.19446669,\n",
       "       0.21681835])"
      ]
     },
     "execution_count": 201,
     "metadata": {},
     "output_type": "execute_result"
    }
   ],
   "source": [
    "xr1[0,:]"
   ]
  },
  {
   "cell_type": "code",
   "execution_count": 204,
   "id": "b1d15299",
   "metadata": {},
   "outputs": [
    {
     "data": {
      "image/png": "[encoded data removed]",
      "text/plain": [
       "<Figure size 576x288 with 1 Axes>"
      ]
     },
     "metadata": {
      "needs_background": "light"
     },
     "output_type": "display_data"
    }
   ],
   "source": [
    "labels=[\"APR\", \"MAY\", \"JUNE\", \"JULY\", \"AUG\", \"SEPT\"]\n",
    "plt.figure(figsize=(8,4))\n",
    "plt.plot(np.arange(1,7), xr1[0,:],color='blue', Marker='d',linewidth=3, label=\"uni\")\n",
    "plt.plot(np.arange(1,7), xr1[1,:],color='red', marker='*', linewidth=3, label=\"grad\")\n",
    "plt.plot(np.arange(1,7), xr1[2,:],color='magenta',marker='^', linewidth=3,label=\"high-school\")\n",
    "plt.legend()\n",
    "plt.title(\"Month-to-month pay trend for different edu group\")\n",
    "plt.show()"
   ]
  },
  {
   "cell_type": "code",
   "execution_count": 205,
   "id": "03640ec6",
   "metadata": {},
   "outputs": [
    {
     "data": {
      "text/plain": [
       "<seaborn.axisgrid.FacetGrid at 0x7ff73a58ebb0>"
      ]
     },
     "execution_count": 205,
     "metadata": {},
     "output_type": "execute_result"
    },
    {
     "data": {
      "image/png": "[encoded data removed]",
      "text/plain": [
       "<Figure size 1520x216 with 7 Axes>"
      ]
     },
     "metadata": {
      "needs_background": "light"
     },
     "output_type": "display_data"
    }
   ],
   "source": [
    "egr = sns.FacetGrid(df, col = 'EDUCATION')\n",
    "egr.map(plt.hist, 'LIMIT_BAL', alpha=0.3, bins=20, color=\"blue\")\n",
    "egr.add_legend()"
   ]
  },
  {
   "cell_type": "markdown",
   "id": "5fafb6e7",
   "metadata": {},
   "source": [
    "# Age"
   ]
  },
  {
   "cell_type": "code",
   "execution_count": 206,
   "id": "d9a29d8a",
   "metadata": {},
   "outputs": [
    {
     "data": {
      "text/plain": [
       "(79, 21, 9.20777352362052)"
      ]
     },
     "execution_count": 206,
     "metadata": {},
     "output_type": "execute_result"
    }
   ],
   "source": [
    "df[\"AGE\"].max(), df[\"AGE\"].min(), df[\"AGE\"].std()"
   ]
  },
  {
   "cell_type": "code",
   "execution_count": 207,
   "id": "3de94a20",
   "metadata": {},
   "outputs": [
    {
     "data": {
      "text/plain": [
       "<seaborn.axisgrid.FacetGrid at 0x7ff741b6b940>"
      ]
     },
     "execution_count": 207,
     "metadata": {},
     "output_type": "execute_result"
    },
    {
     "data": {
      "image/png": "[encoded data removed]",
      "text/plain": [
       "<Figure size 440x216 with 2 Axes>"
      ]
     },
     "metadata": {
      "needs_background": "light"
     },
     "output_type": "display_data"
    }
   ],
   "source": [
    "sgr = sns.FacetGrid(df, col = 'default payment next month')\n",
    "sgr.map(plt.hist, 'AGE', alpha=0.4, bins=20)\n",
    "sgr.add_legend()"
   ]
  },
  {
   "cell_type": "code",
   "execution_count": 208,
   "id": "6c210e31",
   "metadata": {},
   "outputs": [
    {
     "data": {
      "text/plain": [
       "<seaborn.axisgrid.FacetGrid at 0x7ff73a58eb80>"
      ]
     },
     "execution_count": 208,
     "metadata": {},
     "output_type": "execute_result"
    },
    {
     "data": {
      "image/png": "[encoded data removed]",
      "text/plain": [
       "<Figure size 440x216 with 2 Axes>"
      ]
     },
     "metadata": {
      "needs_background": "light"
     },
     "output_type": "display_data"
    }
   ],
   "source": [
    "bgr = sns.FacetGrid(df, col = 'default payment next month')\n",
    "bgr.map(plt.hist, 'LIMIT_BAL', alpha=0.3, bins=20, color=\"green\")\n",
    "bgr.add_legend()"
   ]
  },
  {
   "cell_type": "code",
   "execution_count": 209,
   "id": "70b22ceb",
   "metadata": {},
   "outputs": [
    {
     "data": {
      "text/plain": [
       "([17.028367279662234, 26.236140803282755], 9.20777352362052)"
      ]
     },
     "execution_count": 209,
     "metadata": {},
     "output_type": "execute_result"
    }
   ],
   "source": [
    "age1 = [df[\"AGE\"].mean()-2*df[\"AGE\"].std(), df[\"AGE\"].mean()- df[\"AGE\"].std()]\n",
    "age1, age1[1]-age1[0]"
   ]
  },
  {
   "cell_type": "code",
   "execution_count": 210,
   "id": "7a7305fa",
   "metadata": {},
   "outputs": [
    {
     "data": {
      "text/plain": [
       "([26.236140803282755, 44.6516878505238], 18.415547047241045)"
      ]
     },
     "execution_count": 210,
     "metadata": {},
     "output_type": "execute_result"
    }
   ],
   "source": [
    "age2 = [df[\"AGE\"].mean()-df[\"AGE\"].std(), df[\"AGE\"].mean()+ df[\"AGE\"].std()]\n",
    "age2, age2[1]-age2[0]"
   ]
  },
  {
   "cell_type": "code",
   "execution_count": 211,
   "id": "655128bd",
   "metadata": {},
   "outputs": [
    {
     "data": {
      "text/plain": [
       "([44.6516878505238, 81.48278194500588], 36.83109409448208)"
      ]
     },
     "execution_count": 211,
     "metadata": {},
     "output_type": "execute_result"
    }
   ],
   "source": [
    "age3 = [df[\"AGE\"].mean()+df[\"AGE\"].std(), df[\"AGE\"].mean()+ 5*df[\"AGE\"].std()]\n",
    "age3, age3[1]-age3[0]"
   ]
  },
  {
   "cell_type": "code",
   "execution_count": 212,
   "id": "226d9e23",
   "metadata": {},
   "outputs": [
    {
     "data": {
      "text/plain": [
       "((5044, 43), (18974, 43), (5116, 43))"
      ]
     },
     "execution_count": 212,
     "metadata": {},
     "output_type": "execute_result"
    }
   ],
   "source": [
    "dfa1 = df[(df['AGE']>age1[0]) & (df['AGE']<age1[1])]\n",
    "dfa2 = df[(df['AGE']>age2[0]) & (df['AGE']<age2[1])]\n",
    "dfa3 = df[(df['AGE']>age3[0]) & (df['AGE']<age3[1])]\n",
    "dfa1.shape, dfa2.shape, dfa3.shape"
   ]
  },
  {
   "cell_type": "code",
   "execution_count": 213,
   "id": "91f71839",
   "metadata": {},
   "outputs": [
    {
     "data": {
      "text/plain": [
       "array(['ta0', 'ta1', 'ta2', 'ta3', 'ta4', 'ta5'], dtype='<U26')"
      ]
     },
     "execution_count": 213,
     "metadata": {},
     "output_type": "execute_result"
    }
   ],
   "source": [
    "cols[cols1]"
   ]
  },
  {
   "cell_type": "code",
   "execution_count": 214,
   "id": "383dd6ff",
   "metadata": {},
   "outputs": [
    {
     "data": {
      "text/plain": [
       "0.9074147501982553"
      ]
     },
     "execution_count": 214,
     "metadata": {},
     "output_type": "execute_result"
    }
   ],
   "source": [
    "dfa1[cols[cols1[0]]].value_counts().sort_index(ascending=True).values[0]/dfa1[cols[cols1[0]]].value_counts().sum()"
   ]
  },
  {
   "cell_type": "code",
   "execution_count": 215,
   "id": "d84511e5",
   "metadata": {},
   "outputs": [],
   "source": [
    "df_x = [dfa1, dfa2, dfa3]\n",
    "ra = []\n",
    "for fs in df_x:\n",
    "    for i in cols1: \n",
    "        vc = fs[cols[i]].value_counts().sort_index(ascending=True).values[0]/fs[cols[i]].value_counts().sum()\n",
    "        ra.append(vc)"
   ]
  },
  {
   "cell_type": "code",
   "execution_count": 216,
   "id": "c3686e92",
   "metadata": {},
   "outputs": [
    {
     "data": {
      "text/plain": [
       "(3, 6)"
      ]
     },
     "execution_count": 216,
     "metadata": {},
     "output_type": "execute_result"
    }
   ],
   "source": [
    "ra1 = np.reshape(ra, (3,6))\n",
    "ra1.shape"
   ]
  },
  {
   "cell_type": "code",
   "execution_count": 217,
   "id": "1002eb3d",
   "metadata": {},
   "outputs": [
    {
     "data": {
      "text/plain": [
       "array([0.90741475, 0.86875496, 0.86042823, 0.85606661, 0.82890563,\n",
       "       0.79480571])"
      ]
     },
     "execution_count": 217,
     "metadata": {},
     "output_type": "execute_result"
    }
   ],
   "source": [
    "ra1[0,:]"
   ]
  },
  {
   "cell_type": "code",
   "execution_count": 218,
   "id": "7d02acb0",
   "metadata": {},
   "outputs": [
    {
     "data": {
      "image/png": "[encoded data removed]",
      "text/plain": [
       "<Figure size 576x288 with 1 Axes>"
      ]
     },
     "metadata": {
      "needs_background": "light"
     },
     "output_type": "display_data"
    }
   ],
   "source": [
    "labels=[\"APR\", \"MAY\", \"JUNE\", \"JULY\", \"AUG\", \"SEPT\"]\n",
    "plt.figure(figsize=(8,4))\n",
    "plt.plot(np.arange(1,7), ra1[0],color='blue', Marker='d',linewidth=3, label=\"age1\")\n",
    "plt.plot(np.arange(1,7), ra1[1],color='red', marker='*', linewidth=3, label=\"age2\")\n",
    "plt.plot(np.arange(1,7), ra1[2],color='magenta',marker='^', linewidth=3,label=\"age3\")\n",
    "plt.legend()\n",
    "plt.title(\"Month-to-month pay trend for different age group\")\n",
    "plt.show()"
   ]
  },
  {
   "cell_type": "code",
   "execution_count": null,
   "id": "e16da044",
   "metadata": {},
   "outputs": [],
   "source": []
  },
  {
   "cell_type": "code",
   "execution_count": null,
   "id": "2e549602",
   "metadata": {},
   "outputs": [],
   "source": []
  }
 ],
 "metadata": {
  "kernelspec": {
   "display_name": "Python 3",
   "language": "python",
   "name": "python3"
  },
  "language_info": {
   "codemirror_mode": {
    "name": "ipython",
    "version": 3
   },
   "file_extension": ".py",
   "mimetype": "text/x-python",
   "name": "python",
   "nbconvert_exporter": "python",
   "pygments_lexer": "ipython3",
   "version": "3.8.8"
  }
 },
 "nbformat": 4,
 "nbformat_minor": 5
}
