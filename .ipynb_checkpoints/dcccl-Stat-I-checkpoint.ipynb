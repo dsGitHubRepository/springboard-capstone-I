{
 "cells": [
  {
   "cell_type": "code",
   "execution_count": 451,
   "id": "87650486",
   "metadata": {},
   "outputs": [],
   "source": [
    "import pandas as pd\n",
    "import numpy as np\n",
    "from numpy.random import seed\n",
    "\n",
    "import warnings\n",
    "warnings.filterwarnings(\"ignore\")\n",
    "\n",
    "import matplotlib.pyplot as plt\n",
    "import seaborn as sns\n",
    "\n",
    "\n",
    "from scipy.stats import ttest_ind, t\n",
    "from scipy.stats import norm, zscore"
   ]
  },
  {
   "cell_type": "code",
   "execution_count": 452,
   "id": "f59583ae",
   "metadata": {},
   "outputs": [],
   "source": [
    "np.random.seed(100)"
   ]
  },
  {
   "cell_type": "code",
   "execution_count": 453,
   "id": "a4222f5c",
   "metadata": {},
   "outputs": [],
   "source": [
    "df = pd.read_csv(\"default_of_credit_card_client_processed.csv\")\n",
    "del df['Unnamed: 0']\n",
    "del df['ID']"
   ]
  },
  {
   "cell_type": "code",
   "execution_count": 454,
   "id": "58f4f977",
   "metadata": {},
   "outputs": [
    {
     "data": {
      "text/plain": [
       "array(['LIMIT_BAL', 'SEX', 'EDUCATION', 'MARRIAGE', 'AGE', 'PAY_0',\n",
       "       'PAY_2', 'PAY_3', 'PAY_4', 'PAY_5', 'PAY_6', 'BILL_AMT1',\n",
       "       'BILL_AMT2', 'BILL_AMT3', 'BILL_AMT4', 'BILL_AMT5', 'BILL_AMT6',\n",
       "       'PAY_AMT1', 'PAY_AMT2', 'PAY_AMT3', 'PAY_AMT4', 'PAY_AMT5',\n",
       "       'PAY_AMT6', 'p0', 'p1', 'p2', 'p3', 'p4', 'p5', 'b0', 'b1', 'b2',\n",
       "       'b3', 'b4', 'b5', 'ta0', 'ta1', 'ta2', 'ta3', 'ta4', 'ta5', 'SC',\n",
       "       'default payment next month'], dtype='<U26')"
      ]
     },
     "execution_count": 454,
     "metadata": {},
     "output_type": "execute_result"
    }
   ],
   "source": [
    "cols = np.transpose(df.columns.tolist())\n",
    "cols"
   ]
  },
  {
   "cell_type": "code",
   "execution_count": 455,
   "id": "71ab9574",
   "metadata": {},
   "outputs": [],
   "source": [
    "dollar = df['LIMIT_BAL'].values\n",
    "df['LIMIT_BAL']= dollar"
   ]
  },
  {
   "cell_type": "code",
   "execution_count": 456,
   "id": "ef9560eb",
   "metadata": {},
   "outputs": [
    {
     "data": {
      "text/plain": [
       "((22815, 43), (6319, 43))"
      ]
     },
     "execution_count": 456,
     "metadata": {},
     "output_type": "execute_result"
    }
   ],
   "source": [
    "df_1 = df[df['default payment next month']==0]\n",
    "df_0 = df[df['default payment next month']==1]\n",
    "df_1.shape, df_0.shape"
   ]
  },
  {
   "cell_type": "code",
   "execution_count": 457,
   "id": "3779c637",
   "metadata": {},
   "outputs": [
    {
     "data": {
      "image/png": "[encoded data removed]",
      "text/plain": [
       "<Figure size 864x288 with 1 Axes>"
      ]
     },
     "metadata": {
      "needs_background": "light"
     },
     "output_type": "display_data"
    }
   ],
   "source": [
    "plt.figure(figsize=(12,4))\n",
    "sns.distplot(df_1['LIMIT_BAL']/1000, label='non-default')\n",
    "sns.distplot(df_0['LIMIT_BAL']/1000, label='default')\n",
    "plt.legend()\n",
    "plt.show()"
   ]
  },
  {
   "cell_type": "markdown",
   "id": "013a76c7",
   "metadata": {},
   "source": [
    "# statistical significance"
   ]
  },
  {
   "cell_type": "markdown",
   "id": "48f2c9d4",
   "metadata": {},
   "source": [
    "### credit "
   ]
  },
  {
   "cell_type": "code",
   "execution_count": 458,
   "id": "8e931819",
   "metadata": {},
   "outputs": [],
   "source": [
    "x1 = df_1['LIMIT_BAL'].values/1000\n",
    "x0 = df_0['LIMIT_BAL'].values/1000"
   ]
  },
  {
   "cell_type": "code",
   "execution_count": 459,
   "id": "a59954b6",
   "metadata": {},
   "outputs": [
    {
     "data": {
      "text/plain": [
       "(29.01992778789922, 1.4669381689414239e-182)"
      ]
     },
     "execution_count": 459,
     "metadata": {},
     "output_type": "execute_result"
    }
   ],
   "source": [
    "[t, p] = ttest_ind(x1, x0, equal_var=True)\n",
    "t, p"
   ]
  },
  {
   "cell_type": "raw",
   "id": "c3e1123a",
   "metadata": {},
   "source": [
    "The null hypothesis is rejected "
   ]
  },
  {
   "cell_type": "code",
   "execution_count": 460,
   "id": "d824f203",
   "metadata": {},
   "outputs": [
    {
     "data": {
      "text/plain": [
       "(52.801807410986584, 0.014215614695706633, 29132, 127.98914811631353)"
      ]
     },
     "execution_count": 460,
     "metadata": {},
     "output_type": "execute_result"
    }
   ],
   "source": [
    "diff_of_mean = np.mean(x1) - np.mean(x0)\n",
    "n1 = len(x1)\n",
    "n0 = len(x0)\n",
    "factor = np.sqrt((n1+n0)/(n1*n0))\n",
    "dof = n1+n0-2\n",
    "s_1 = np.std(x1)\n",
    "s_0 = np.std(x0)\n",
    "s_p_n = ((n1-1)*s_1**2) + ((n0-1)*s_0**2)\n",
    "s_p = np.sqrt(s_p_n/dof)\n",
    "diff_of_mean, factor, dof, s_p"
   ]
  },
  {
   "cell_type": "code",
   "execution_count": 461,
   "id": "c5690fe8",
   "metadata": {},
   "outputs": [
    {
     "data": {
      "text/plain": [
       "29.020841186426516"
      ]
     },
     "execution_count": 461,
     "metadata": {},
     "output_type": "execute_result"
    }
   ],
   "source": [
    "t_calc = diff_of_mean/(s_p*factor)\n",
    "t_calc"
   ]
  },
  {
   "cell_type": "code",
   "execution_count": 462,
   "id": "9f20ae37",
   "metadata": {},
   "outputs": [
    {
     "data": {
      "image/png": "[encoded data removed]",
      "text/plain": [
       "<Figure size 864x288 with 1 Axes>"
      ]
     },
     "metadata": {
      "needs_background": "light"
     },
     "output_type": "display_data"
    }
   ],
   "source": [
    "plt.figure(figsize=(12,4))\n",
    "xd_1 =  df_1['LIMIT_BAL'].sort_values().values/1000 \n",
    "xd_0 = df_0['LIMIT_BAL'].sort_values().values/1000\n",
    "\n",
    "xd_1z = zscore(xd_1)\n",
    "xd_0z = zscore(xd_0)\n",
    "\n",
    "xd1_pdf = norm.pdf(xd_1, loc=np.mean(xd_1), scale=np.std(xd_1))\n",
    "xd0_pdf = norm.pdf(xd_0, loc=np.mean(xd_0), scale=np.std(xd_0))\n",
    "\n",
    "plt.plot(xd_1, xd1_pdf, label='non-default_1')\n",
    "plt.plot(xd_0, xd0_pdf, label='default_0')\n",
    "plt.xlabel('CREDIT_[k]')\n",
    "plt.xlabel('pdf')\n",
    "plt.title('from credit_ consideration null-hypothesis is rejected')\n",
    "plt.legend()\n",
    "plt.show()"
   ]
  },
  {
   "cell_type": "code",
   "execution_count": 463,
   "id": "88f2d28c",
   "metadata": {},
   "outputs": [
    {
     "data": {
      "text/plain": [
       "(177.59333771641465, 124.79153030542807)"
      ]
     },
     "execution_count": 463,
     "metadata": {},
     "output_type": "execute_result"
    }
   ],
   "source": [
    "np.mean(xd_1), np.mean(xd_0)"
   ]
  },
  {
   "cell_type": "markdown",
   "id": "d2e216fe",
   "metadata": {},
   "source": [
    "### age  "
   ]
  },
  {
   "cell_type": "code",
   "execution_count": 464,
   "id": "b93b41a6",
   "metadata": {},
   "outputs": [
    {
     "data": {
      "text/plain": [
       "(35.40929213236905, 35.56891913277417, 9.086734834261934, 9.63040478214853)"
      ]
     },
     "execution_count": 464,
     "metadata": {},
     "output_type": "execute_result"
    }
   ],
   "source": [
    "x1_a = df_1['AGE'].sort_values().values\n",
    "x0_a = df_0['AGE'].sort_values().values\n",
    "x1_a.mean(), x0_a.mean(), x1_a.std(), x0_a.std()"
   ]
  },
  {
   "cell_type": "code",
   "execution_count": 465,
   "id": "f9544326",
   "metadata": {},
   "outputs": [],
   "source": [
    "x1z_a = zscore(x1_a)\n",
    "x0z_a = zscore(x0_a)"
   ]
  },
  {
   "cell_type": "code",
   "execution_count": 466,
   "id": "b0cc192d",
   "metadata": {},
   "outputs": [],
   "source": [
    "x1_a_pdf = norm.pdf(x1_a, loc=x1_a.mean(), scale=x1_a.std())\n",
    "x0_a_pdf = norm.pdf(x0_a, loc=x0_a.mean(), scale=x0_a.std())"
   ]
  },
  {
   "cell_type": "code",
   "execution_count": 467,
   "id": "564a4e72",
   "metadata": {},
   "outputs": [
    {
     "data": {
      "text/plain": [
       "(1.2195222039439466, 0.22265592695889386)"
      ]
     },
     "execution_count": 467,
     "metadata": {},
     "output_type": "execute_result"
    }
   ],
   "source": [
    "[t_a, p_a] = ttest_ind(x0_a, x1_a, equal_var=True)\n",
    "t_a, p_a"
   ]
  },
  {
   "cell_type": "raw",
   "id": "e8c5f0b0",
   "metadata": {},
   "source": [
    "Excel \n",
    "\n",
    "TDIST(1.2195222, 29132, 2) = 0.22265593 corresponding zscore = 1.219496 "
   ]
  },
  {
   "cell_type": "code",
   "execution_count": 468,
   "id": "8eefd2d8",
   "metadata": {},
   "outputs": [
    {
     "data": {
      "text/plain": [
       "(0.15962700040511635, 0.014215614695706633, 29132, 9.207369734785427)"
      ]
     },
     "execution_count": 468,
     "metadata": {},
     "output_type": "execute_result"
    }
   ],
   "source": [
    "mean_diff_a = x0_a.mean() - x1_a.mean()\n",
    "factor_1_by_n = np.sqrt((n0+n1)/(n0*n1))\n",
    "dof_a = n1+n0-2\n",
    "sigma_p_a = np.sqrt(((n1-1)*(x1_a.std())**2+(n0-1)*(x0_a.std())**2)/dof_a)\n",
    "mean_diff_a, factor_1_by_n, dof_a, sigma_p_a"
   ]
  },
  {
   "cell_type": "code",
   "execution_count": 469,
   "id": "6dbf1965",
   "metadata": {},
   "outputs": [
    {
     "data": {
      "text/plain": [
       "1.2195654877825066"
      ]
     },
     "execution_count": 469,
     "metadata": {},
     "output_type": "execute_result"
    }
   ],
   "source": [
    "t_calc_a = mean_diff_a/(factor_1_by_n*sigma_p_a)\n",
    "t_calc_a"
   ]
  },
  {
   "cell_type": "code",
   "execution_count": 470,
   "id": "b37f6e97",
   "metadata": {},
   "outputs": [
    {
     "data": {
      "image/png": "[encoded data removed]",
      "text/plain": [
       "<Figure size 864x288 with 1 Axes>"
      ]
     },
     "metadata": {
      "needs_background": "light"
     },
     "output_type": "display_data"
    }
   ],
   "source": [
    "plt.figure(figsize=(12,4))\n",
    "\n",
    "plt.plot(x1_a, x1_a_pdf, label='non-default_1')\n",
    "plt.plot(x0_a, x0_a_pdf, label='default_0')\n",
    "plt.title('p-value 0.22>0.05 so statistically insignificant; nullhypothesis accepted')\n",
    "plt.xlabel('for age consideration null-hypothesis is accepted')\n",
    "plt.legend()\n",
    "plt.show()"
   ]
  },
  {
   "cell_type": "code",
   "execution_count": 471,
   "id": "51a4eaee",
   "metadata": {},
   "outputs": [
    {
     "data": {
      "text/plain": [
       "(22815, 6319, 29132)"
      ]
     },
     "execution_count": 471,
     "metadata": {},
     "output_type": "execute_result"
    }
   ],
   "source": [
    "n1, n0, dof"
   ]
  },
  {
   "cell_type": "code",
   "execution_count": 472,
   "id": "e9e8b3ad",
   "metadata": {},
   "outputs": [
    {
     "data": {
      "text/plain": [
       "(35.40929213236905, 35.56891913277417, 1.2195222039439466, 0.22265592695889386)"
      ]
     },
     "execution_count": 472,
     "metadata": {},
     "output_type": "execute_result"
    }
   ],
   "source": [
    "x1_a.mean(), x0_a.mean(), t_a, p_a"
   ]
  },
  {
   "cell_type": "code",
   "execution_count": null,
   "id": "ebc300b9",
   "metadata": {},
   "outputs": [],
   "source": []
  }
 ],
 "metadata": {
  "kernelspec": {
   "display_name": "Python 3",
   "language": "python",
   "name": "python3"
  },
  "language_info": {
   "codemirror_mode": {
    "name": "ipython",
    "version": 3
   },
   "file_extension": ".py",
   "mimetype": "text/x-python",
   "name": "python",
   "nbconvert_exporter": "python",
   "pygments_lexer": "ipython3",
   "version": "3.8.8"
  }
 },
 "nbformat": 4,
 "nbformat_minor": 5
}
