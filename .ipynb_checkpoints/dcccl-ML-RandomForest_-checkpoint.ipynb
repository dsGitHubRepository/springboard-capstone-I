{
 "cells": [
  {
   "cell_type": "code",
   "execution_count": 37,
   "id": "d7a40dc7",
   "metadata": {},
   "outputs": [],
   "source": [
    "import pandas as pd\n",
    "import numpy as np\n",
    "from numpy.random import seed\n",
    "\n",
    "import warnings\n",
    "warnings.filterwarnings(\"ignore\")\n",
    "\n",
    "import matplotlib.pyplot as plt\n",
    "import seaborn as sns"
   ]
  },
  {
   "cell_type": "code",
   "execution_count": 38,
   "id": "96e0e227",
   "metadata": {},
   "outputs": [],
   "source": [
    "seed(42)"
   ]
  },
  {
   "cell_type": "code",
   "execution_count": 39,
   "id": "86198b8e",
   "metadata": {},
   "outputs": [
    {
     "data": {
      "text/plain": [
       "array(['LIMIT_BAL', 'SEX', 'EDUCATION', 'MARRIAGE', 'AGE', 'PAY_0',\n",
       "       'PAY_2', 'PAY_3', 'PAY_4', 'PAY_5', 'PAY_6', 'BILL_AMT1',\n",
       "       'BILL_AMT2', 'BILL_AMT3', 'BILL_AMT4', 'BILL_AMT5', 'BILL_AMT6',\n",
       "       'PAY_AMT1', 'PAY_AMT2', 'PAY_AMT3', 'PAY_AMT4', 'PAY_AMT5',\n",
       "       'PAY_AMT6', 'p0', 'p1', 'p2', 'p3', 'p4', 'p5', 'b0', 'b1', 'b2',\n",
       "       'b3', 'b4', 'b5', 'ta0', 'ta1', 'ta2', 'ta3', 'ta4', 'ta5', 'SC',\n",
       "       'default payment next month'], dtype='<U26')"
      ]
     },
     "execution_count": 39,
     "metadata": {},
     "output_type": "execute_result"
    }
   ],
   "source": [
    "df = pd.read_csv(\"default_of_credit_card_client_processed.csv\")\n",
    "del df['Unnamed: 0']\n",
    "del df['ID']\n",
    "cols = np.transpose(df.columns.tolist())\n",
    "cols"
   ]
  },
  {
   "cell_type": "markdown",
   "id": "7e392a84",
   "metadata": {},
   "source": [
    "# Attributes and Features"
   ]
  },
  {
   "cell_type": "code",
   "execution_count": 40,
   "id": "ddc5a576",
   "metadata": {},
   "outputs": [
    {
     "data": {
      "text/plain": [
       "array(['LIMIT_BAL', 'SEX', 'EDUCATION', 'MARRIAGE', 'AGE', 'PAY_0',\n",
       "       'PAY_2', 'PAY_3', 'PAY_4', 'PAY_5', 'PAY_6', 'BILL_AMT1',\n",
       "       'BILL_AMT2', 'BILL_AMT3', 'BILL_AMT4', 'BILL_AMT5', 'BILL_AMT6',\n",
       "       'PAY_AMT1', 'PAY_AMT2', 'PAY_AMT3', 'PAY_AMT4', 'PAY_AMT5',\n",
       "       'PAY_AMT6', 'p0', 'p1', 'p2', 'p3', 'p4', 'p5', 'b0', 'b1', 'b2',\n",
       "       'b3', 'b4', 'b5', 'ta0', 'ta1', 'ta2', 'ta3', 'ta4', 'ta5', 'SC'],\n",
       "      dtype='<U26')"
      ]
     },
     "execution_count": 40,
     "metadata": {},
     "output_type": "execute_result"
    }
   ],
   "source": [
    "colsX = cols[0:-1]\n",
    "colsX"
   ]
  },
  {
   "cell_type": "code",
   "execution_count": 41,
   "id": "468a0aa9",
   "metadata": {},
   "outputs": [
    {
     "data": {
      "text/plain": [
       "(29134, 42)"
      ]
     },
     "execution_count": 41,
     "metadata": {},
     "output_type": "execute_result"
    }
   ],
   "source": [
    "X = df[colsX].values\n",
    "X.shape"
   ]
  },
  {
   "cell_type": "code",
   "execution_count": 42,
   "id": "ce047de1",
   "metadata": {},
   "outputs": [
    {
     "data": {
      "text/plain": [
       "(29134,)"
      ]
     },
     "execution_count": 42,
     "metadata": {},
     "output_type": "execute_result"
    }
   ],
   "source": [
    "y = df['default payment next month'].values\n",
    "y.shape"
   ]
  },
  {
   "cell_type": "markdown",
   "id": "c5135136",
   "metadata": {},
   "source": [
    "# ML"
   ]
  },
  {
   "cell_type": "code",
   "execution_count": 43,
   "id": "cdaafc77",
   "metadata": {},
   "outputs": [],
   "source": [
    "from sklearn.preprocessing import StandardScaler\n",
    "\n",
    "from sklearn.model_selection import train_test_split \n",
    "\n",
    "from sklearn.metrics import roc_auc_score, accuracy_score\n",
    "from sklearn.metrics import classification_report, confusion_matrix\n",
    "\n",
    "from sklearn.ensemble import RandomForestClassifier"
   ]
  },
  {
   "cell_type": "code",
   "execution_count": 44,
   "id": "4a8d1b45",
   "metadata": {},
   "outputs": [
    {
     "data": {
      "text/plain": [
       "(29134, 42)"
      ]
     },
     "execution_count": 44,
     "metadata": {},
     "output_type": "execute_result"
    }
   ],
   "source": [
    "X = StandardScaler().fit(X).transform(X)\n",
    "X.shape"
   ]
  },
  {
   "cell_type": "code",
   "execution_count": 45,
   "id": "109a8775",
   "metadata": {},
   "outputs": [
    {
     "data": {
      "text/plain": [
       "((20393, 42), (8741, 42))"
      ]
     },
     "execution_count": 45,
     "metadata": {},
     "output_type": "execute_result"
    }
   ],
   "source": [
    "X_tr, X_t, y_tr, y_t = train_test_split(X, y, test_size=0.3, random_state=100)\n",
    "X_tr.shape, X_t.shape"
   ]
  },
  {
   "cell_type": "code",
   "execution_count": 46,
   "id": "e4cbe4ea",
   "metadata": {},
   "outputs": [],
   "source": [
    "clf_rf = RandomForestClassifier(max_depth=5)"
   ]
  },
  {
   "cell_type": "code",
   "execution_count": 55,
   "id": "9d8952ae",
   "metadata": {},
   "outputs": [
    {
     "name": "stdout",
     "output_type": "stream",
     "text": [
      "ROC: 0.67 Accuracy: 0.83\n"
     ]
    }
   ],
   "source": [
    "clf_rf.fit(X_tr, y_tr)\n",
    "y_p = clf_rf.predict(X_t)\n",
    "print(\"ROC:\", np.round(roc_auc_score(y_t, y_p), 2), \"Accuracy:\", np.round(accuracy_score(y_t, y_p), 2))"
   ]
  },
  {
   "cell_type": "markdown",
   "id": "6d2a9b90",
   "metadata": {},
   "source": [
    "# Metrices"
   ]
  },
  {
   "cell_type": "code",
   "execution_count": 48,
   "id": "29500af7",
   "metadata": {},
   "outputs": [
    {
     "data": {
      "image/png": "[encoded data removed]",
      "text/plain": [
       "<Figure size 432x288 with 2 Axes>"
      ]
     },
     "metadata": {
      "needs_background": "light"
     },
     "output_type": "display_data"
    }
   ],
   "source": [
    "labels = ['TP', 'FP']\n",
    "m_conf =confusion_matrix(y_t, y_p) \n",
    "sns.heatmap(m_conf, xticklabels=labels, yticklabels=labels, annot=True)\n",
    "plt.show()"
   ]
  },
  {
   "cell_type": "code",
   "execution_count": 49,
   "id": "c2593671",
   "metadata": {},
   "outputs": [
    {
     "data": {
      "text/plain": [
       "(8741, 2)"
      ]
     },
     "execution_count": 49,
     "metadata": {},
     "output_type": "execute_result"
    }
   ],
   "source": [
    "m = pd.DataFrame({\"y_t\":y_t, \"y_p\": y_p})\n",
    "m.shape"
   ]
  },
  {
   "cell_type": "code",
   "execution_count": 50,
   "id": "4a02a3d6",
   "metadata": {},
   "outputs": [
    {
     "data": {
      "text/plain": [
       "8741"
      ]
     },
     "execution_count": 50,
     "metadata": {},
     "output_type": "execute_result"
    }
   ],
   "source": [
    "m_conf.sum()"
   ]
  },
  {
   "cell_type": "code",
   "execution_count": 51,
   "id": "b0cba5f2",
   "metadata": {},
   "outputs": [
    {
     "name": "stdout",
     "output_type": "stream",
     "text": [
      "0.85 % nondefault predicted exactly\n"
     ]
    }
   ],
   "source": [
    "precision_score_nondefault = m_conf[0][0]/m[\"y_p\"].value_counts().sort_index(ascending=True).values[0]\n",
    "print(np.round(precision_score_nondefault, 2), \"% nondefault predicted exactly\" )"
   ]
  },
  {
   "cell_type": "code",
   "execution_count": 52,
   "id": "60863103",
   "metadata": {},
   "outputs": [
    {
     "name": "stdout",
     "output_type": "stream",
     "text": [
      "0.65 % default predicted exactly\n"
     ]
    }
   ],
   "source": [
    "precision_score_default = m_conf[1][1]/m[\"y_p\"].value_counts().sort_index(ascending=True).values[1]\n",
    "\n",
    "print(np.round(precision_score_default, 2), \"% default predicted exactly\")"
   ]
  },
  {
   "cell_type": "code",
   "execution_count": 53,
   "id": "ae6f6cd0",
   "metadata": {},
   "outputs": [
    {
     "name": "stdout",
     "output_type": "stream",
     "text": [
      "              precision    recall  f1-score   support\n",
      "\n",
      "           0       0.85      0.94      0.89      6861\n",
      "           1       0.65      0.39      0.49      1880\n",
      "\n",
      "    accuracy                           0.82      8741\n",
      "   macro avg       0.75      0.67      0.69      8741\n",
      "weighted avg       0.81      0.82      0.81      8741\n",
      "\n"
     ]
    }
   ],
   "source": [
    "print(classification_report(y_t, y_p))"
   ]
  },
  {
   "cell_type": "markdown",
   "id": "8f584335",
   "metadata": {},
   "source": [
    "# cross-validation"
   ]
  },
  {
   "cell_type": "code",
   "execution_count": 84,
   "id": "abd5c9c0",
   "metadata": {},
   "outputs": [],
   "source": [
    "from sklearn.model_selection import cross_val_score "
   ]
  },
  {
   "cell_type": "code",
   "execution_count": 85,
   "id": "f2b45941",
   "metadata": {},
   "outputs": [
    {
     "data": {
      "text/plain": [
       "array([0.81293976, 0.8156856 , 0.82581088, 0.83353355, 0.83350498])"
      ]
     },
     "execution_count": 85,
     "metadata": {},
     "output_type": "execute_result"
    }
   ],
   "source": [
    "cv_score = cross_val_score(clf_rf, X, y, cv=5)\n",
    "cv_score"
   ]
  },
  {
   "cell_type": "code",
   "execution_count": 86,
   "id": "eda5a08d",
   "metadata": {},
   "outputs": [
    {
     "name": "stdout",
     "output_type": "stream",
     "text": [
      "Accuracy : 0.82\n"
     ]
    }
   ],
   "source": [
    "print(\"Accuracy :\", np.round(cv_score.mean(), 2))"
   ]
  },
  {
   "cell_type": "markdown",
   "id": "11f9db71",
   "metadata": {},
   "source": [
    "# GridSearch"
   ]
  },
  {
   "cell_type": "code",
   "execution_count": 96,
   "id": "e0d71ee0",
   "metadata": {},
   "outputs": [],
   "source": [
    "from sklearn.model_selection import GridSearchCV "
   ]
  },
  {
   "cell_type": "code",
   "execution_count": 115,
   "id": "54802265",
   "metadata": {},
   "outputs": [
    {
     "data": {
      "text/plain": [
       "GridSearchCV(cv=2, estimator=RandomForestClassifier(max_depth=5),\n",
       "             param_grid={'criterion': ['gini', 'entropy']})"
      ]
     },
     "execution_count": 115,
     "metadata": {},
     "output_type": "execute_result"
    }
   ],
   "source": [
    "clf = GridSearchCV(RandomForestClassifier(max_depth=5), {\n",
    "    'criterion': ['gini', 'entropy']\n",
    "}, cv=5, return_train_score=False)\n",
    "\n",
    "clf.fit(X_tr, y_tr)"
   ]
  },
  {
   "cell_type": "code",
   "execution_count": 116,
   "id": "47913108",
   "metadata": {},
   "outputs": [
    {
     "data": {
      "text/html": [
       "<div>\n",
       "<style scoped>\n",
       "    .dataframe tbody tr th:only-of-type {\n",
       "        vertical-align: middle;\n",
       "    }\n",
       "\n",
       "    .dataframe tbody tr th {\n",
       "        vertical-align: top;\n",
       "    }\n",
       "\n",
       "    .dataframe thead th {\n",
       "        text-align: right;\n",
       "    }\n",
       "</style>\n",
       "<table border=\"1\" class=\"dataframe\">\n",
       "  <thead>\n",
       "    <tr style=\"text-align: right;\">\n",
       "      <th></th>\n",
       "      <th>mean_fit_time</th>\n",
       "      <th>std_fit_time</th>\n",
       "      <th>mean_score_time</th>\n",
       "      <th>std_score_time</th>\n",
       "      <th>param_criterion</th>\n",
       "      <th>params</th>\n",
       "      <th>split0_test_score</th>\n",
       "      <th>split1_test_score</th>\n",
       "      <th>mean_test_score</th>\n",
       "      <th>std_test_score</th>\n",
       "      <th>rank_test_score</th>\n",
       "    </tr>\n",
       "  </thead>\n",
       "  <tbody>\n",
       "    <tr>\n",
       "      <th>0</th>\n",
       "      <td>0.742260</td>\n",
       "      <td>0.003022</td>\n",
       "      <td>0.057765</td>\n",
       "      <td>0.006868</td>\n",
       "      <td>gini</td>\n",
       "      <td>{'criterion': 'gini'}</td>\n",
       "      <td>0.823968</td>\n",
       "      <td>0.826403</td>\n",
       "      <td>0.825185</td>\n",
       "      <td>0.001217</td>\n",
       "      <td>1</td>\n",
       "    </tr>\n",
       "    <tr>\n",
       "      <th>1</th>\n",
       "      <td>0.876063</td>\n",
       "      <td>0.044393</td>\n",
       "      <td>0.056886</td>\n",
       "      <td>0.003278</td>\n",
       "      <td>entropy</td>\n",
       "      <td>{'criterion': 'entropy'}</td>\n",
       "      <td>0.823576</td>\n",
       "      <td>0.823656</td>\n",
       "      <td>0.823616</td>\n",
       "      <td>0.000040</td>\n",
       "      <td>2</td>\n",
       "    </tr>\n",
       "  </tbody>\n",
       "</table>\n",
       "</div>"
      ],
      "text/plain": [
       "   mean_fit_time  std_fit_time  mean_score_time  std_score_time  \\\n",
       "0       0.742260      0.003022         0.057765        0.006868   \n",
       "1       0.876063      0.044393         0.056886        0.003278   \n",
       "\n",
       "  param_criterion                    params  split0_test_score  \\\n",
       "0            gini     {'criterion': 'gini'}           0.823968   \n",
       "1         entropy  {'criterion': 'entropy'}           0.823576   \n",
       "\n",
       "   split1_test_score  mean_test_score  std_test_score  rank_test_score  \n",
       "0           0.826403         0.825185        0.001217                1  \n",
       "1           0.823656         0.823616        0.000040                2  "
      ]
     },
     "execution_count": 116,
     "metadata": {},
     "output_type": "execute_result"
    }
   ],
   "source": [
    "res = pd.DataFrame(clf.cv_results_)\n",
    "res"
   ]
  },
  {
   "cell_type": "code",
   "execution_count": 117,
   "id": "17e0fb6c",
   "metadata": {},
   "outputs": [
    {
     "data": {
      "text/html": [
       "<div>\n",
       "<style scoped>\n",
       "    .dataframe tbody tr th:only-of-type {\n",
       "        vertical-align: middle;\n",
       "    }\n",
       "\n",
       "    .dataframe tbody tr th {\n",
       "        vertical-align: top;\n",
       "    }\n",
       "\n",
       "    .dataframe thead th {\n",
       "        text-align: right;\n",
       "    }\n",
       "</style>\n",
       "<table border=\"1\" class=\"dataframe\">\n",
       "  <thead>\n",
       "    <tr style=\"text-align: right;\">\n",
       "      <th></th>\n",
       "      <th>params</th>\n",
       "      <th>mean_test_score</th>\n",
       "      <th>rank_test_score</th>\n",
       "    </tr>\n",
       "  </thead>\n",
       "  <tbody>\n",
       "    <tr>\n",
       "      <th>0</th>\n",
       "      <td>{'criterion': 'gini'}</td>\n",
       "      <td>0.825185</td>\n",
       "      <td>1</td>\n",
       "    </tr>\n",
       "    <tr>\n",
       "      <th>1</th>\n",
       "      <td>{'criterion': 'entropy'}</td>\n",
       "      <td>0.823616</td>\n",
       "      <td>2</td>\n",
       "    </tr>\n",
       "  </tbody>\n",
       "</table>\n",
       "</div>"
      ],
      "text/plain": [
       "                     params  mean_test_score  rank_test_score\n",
       "0     {'criterion': 'gini'}         0.825185                1\n",
       "1  {'criterion': 'entropy'}         0.823616                2"
      ]
     },
     "execution_count": 117,
     "metadata": {},
     "output_type": "execute_result"
    }
   ],
   "source": [
    "res[['params','mean_test_score','rank_test_score']]"
   ]
  },
  {
   "cell_type": "code",
   "execution_count": null,
   "id": "e6d0967a",
   "metadata": {},
   "outputs": [],
   "source": []
  }
 ],
 "metadata": {
  "kernelspec": {
   "display_name": "Python 3",
   "language": "python",
   "name": "python3"
  },
  "language_info": {
   "codemirror_mode": {
    "name": "ipython",
    "version": 3
   },
   "file_extension": ".py",
   "mimetype": "text/x-python",
   "name": "python",
   "nbconvert_exporter": "python",
   "pygments_lexer": "ipython3",
   "version": "3.8.8"
  }
 },
 "nbformat": 4,
 "nbformat_minor": 5
}
