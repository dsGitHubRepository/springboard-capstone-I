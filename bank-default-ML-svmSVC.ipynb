{
 "cells": [
  {
   "cell_type": "code",
   "execution_count": 382,
   "id": "ed21a44e",
   "metadata": {},
   "outputs": [],
   "source": [
    "import pandas as pd\n",
    "import numpy as np\n",
    "from numpy.random import seed\n",
    "\n",
    "import warnings\n",
    "warnings.filterwarnings(\"ignore\")\n",
    "\n",
    "import matplotlib.pyplot as plt\n",
    "import seaborn as sns"
   ]
  },
  {
   "cell_type": "code",
   "execution_count": 383,
   "id": "7ecf714e",
   "metadata": {},
   "outputs": [],
   "source": [
    "seed(100)"
   ]
  },
  {
   "cell_type": "code",
   "execution_count": 384,
   "id": "1a6febb4",
   "metadata": {},
   "outputs": [
    {
     "data": {
      "text/html": [
       "<div>\n",
       "<style scoped>\n",
       "    .dataframe tbody tr th:only-of-type {\n",
       "        vertical-align: middle;\n",
       "    }\n",
       "\n",
       "    .dataframe tbody tr th {\n",
       "        vertical-align: top;\n",
       "    }\n",
       "\n",
       "    .dataframe thead th {\n",
       "        text-align: right;\n",
       "    }\n",
       "</style>\n",
       "<table border=\"1\" class=\"dataframe\">\n",
       "  <thead>\n",
       "    <tr style=\"text-align: right;\">\n",
       "      <th></th>\n",
       "      <th>LIMIT_BAL</th>\n",
       "      <th>SEX</th>\n",
       "      <th>EDUCATION</th>\n",
       "      <th>MARRIAGE</th>\n",
       "      <th>AGE</th>\n",
       "      <th>PAY_0</th>\n",
       "      <th>PAY_2</th>\n",
       "      <th>PAY_3</th>\n",
       "      <th>PAY_4</th>\n",
       "      <th>PAY_5</th>\n",
       "      <th>...</th>\n",
       "      <th>b4</th>\n",
       "      <th>b5</th>\n",
       "      <th>ta0</th>\n",
       "      <th>ta1</th>\n",
       "      <th>ta2</th>\n",
       "      <th>ta3</th>\n",
       "      <th>ta4</th>\n",
       "      <th>ta5</th>\n",
       "      <th>SC</th>\n",
       "      <th>default payment next month</th>\n",
       "    </tr>\n",
       "  </thead>\n",
       "  <tbody>\n",
       "    <tr>\n",
       "      <th>0</th>\n",
       "      <td>20000</td>\n",
       "      <td>2</td>\n",
       "      <td>2</td>\n",
       "      <td>1</td>\n",
       "      <td>24</td>\n",
       "      <td>2</td>\n",
       "      <td>2</td>\n",
       "      <td>-1</td>\n",
       "      <td>-1</td>\n",
       "      <td>-2</td>\n",
       "      <td>...</td>\n",
       "      <td>1</td>\n",
       "      <td>1</td>\n",
       "      <td>0</td>\n",
       "      <td>0</td>\n",
       "      <td>0</td>\n",
       "      <td>1</td>\n",
       "      <td>1</td>\n",
       "      <td>1</td>\n",
       "      <td>0</td>\n",
       "      <td>1</td>\n",
       "    </tr>\n",
       "    <tr>\n",
       "      <th>1</th>\n",
       "      <td>120000</td>\n",
       "      <td>2</td>\n",
       "      <td>2</td>\n",
       "      <td>2</td>\n",
       "      <td>26</td>\n",
       "      <td>-1</td>\n",
       "      <td>2</td>\n",
       "      <td>0</td>\n",
       "      <td>0</td>\n",
       "      <td>0</td>\n",
       "      <td>...</td>\n",
       "      <td>0</td>\n",
       "      <td>0</td>\n",
       "      <td>0</td>\n",
       "      <td>0</td>\n",
       "      <td>0</td>\n",
       "      <td>0</td>\n",
       "      <td>0</td>\n",
       "      <td>0</td>\n",
       "      <td>0</td>\n",
       "      <td>1</td>\n",
       "    </tr>\n",
       "    <tr>\n",
       "      <th>2</th>\n",
       "      <td>90000</td>\n",
       "      <td>2</td>\n",
       "      <td>2</td>\n",
       "      <td>2</td>\n",
       "      <td>34</td>\n",
       "      <td>0</td>\n",
       "      <td>0</td>\n",
       "      <td>0</td>\n",
       "      <td>0</td>\n",
       "      <td>0</td>\n",
       "      <td>...</td>\n",
       "      <td>0</td>\n",
       "      <td>0</td>\n",
       "      <td>0</td>\n",
       "      <td>0</td>\n",
       "      <td>0</td>\n",
       "      <td>0</td>\n",
       "      <td>0</td>\n",
       "      <td>0</td>\n",
       "      <td>0</td>\n",
       "      <td>0</td>\n",
       "    </tr>\n",
       "    <tr>\n",
       "      <th>3</th>\n",
       "      <td>50000</td>\n",
       "      <td>2</td>\n",
       "      <td>2</td>\n",
       "      <td>1</td>\n",
       "      <td>37</td>\n",
       "      <td>0</td>\n",
       "      <td>0</td>\n",
       "      <td>0</td>\n",
       "      <td>0</td>\n",
       "      <td>0</td>\n",
       "      <td>...</td>\n",
       "      <td>0</td>\n",
       "      <td>0</td>\n",
       "      <td>0</td>\n",
       "      <td>0</td>\n",
       "      <td>0</td>\n",
       "      <td>0</td>\n",
       "      <td>0</td>\n",
       "      <td>0</td>\n",
       "      <td>0</td>\n",
       "      <td>0</td>\n",
       "    </tr>\n",
       "    <tr>\n",
       "      <th>4</th>\n",
       "      <td>50000</td>\n",
       "      <td>1</td>\n",
       "      <td>2</td>\n",
       "      <td>1</td>\n",
       "      <td>57</td>\n",
       "      <td>-1</td>\n",
       "      <td>0</td>\n",
       "      <td>-1</td>\n",
       "      <td>0</td>\n",
       "      <td>0</td>\n",
       "      <td>...</td>\n",
       "      <td>0</td>\n",
       "      <td>0</td>\n",
       "      <td>0</td>\n",
       "      <td>1</td>\n",
       "      <td>0</td>\n",
       "      <td>0</td>\n",
       "      <td>0</td>\n",
       "      <td>0</td>\n",
       "      <td>0</td>\n",
       "      <td>0</td>\n",
       "    </tr>\n",
       "  </tbody>\n",
       "</table>\n",
       "<p>5 rows × 43 columns</p>\n",
       "</div>"
      ],
      "text/plain": [
       "   LIMIT_BAL  SEX  EDUCATION  MARRIAGE  AGE  PAY_0  PAY_2  PAY_3  PAY_4  \\\n",
       "0      20000    2          2         1   24      2      2     -1     -1   \n",
       "1     120000    2          2         2   26     -1      2      0      0   \n",
       "2      90000    2          2         2   34      0      0      0      0   \n",
       "3      50000    2          2         1   37      0      0      0      0   \n",
       "4      50000    1          2         1   57     -1      0     -1      0   \n",
       "\n",
       "   PAY_5  ...  b4  b5  ta0  ta1  ta2  ta3  ta4  ta5  SC  \\\n",
       "0     -2  ...   1   1    0    0    0    1    1    1   0   \n",
       "1      0  ...   0   0    0    0    0    0    0    0   0   \n",
       "2      0  ...   0   0    0    0    0    0    0    0   0   \n",
       "3      0  ...   0   0    0    0    0    0    0    0   0   \n",
       "4      0  ...   0   0    0    1    0    0    0    0   0   \n",
       "\n",
       "   default payment next month  \n",
       "0                           1  \n",
       "1                           1  \n",
       "2                           0  \n",
       "3                           0  \n",
       "4                           0  \n",
       "\n",
       "[5 rows x 43 columns]"
      ]
     },
     "execution_count": 384,
     "metadata": {},
     "output_type": "execute_result"
    }
   ],
   "source": [
    "df = pd.read_csv(\"default_of_credit_card_client_processed.csv\")\n",
    "del df['Unnamed: 0']\n",
    "del df['ID']\n",
    "df.head()"
   ]
  },
  {
   "cell_type": "code",
   "execution_count": 385,
   "id": "e1fc2820",
   "metadata": {},
   "outputs": [
    {
     "data": {
      "text/plain": [
       "(array(['LIMIT_BAL', 'SEX', 'EDUCATION', 'MARRIAGE', 'AGE', 'PAY_0',\n",
       "        'PAY_2', 'PAY_3', 'PAY_4', 'PAY_5', 'PAY_6', 'BILL_AMT1',\n",
       "        'BILL_AMT2', 'BILL_AMT3', 'BILL_AMT4', 'BILL_AMT5', 'BILL_AMT6',\n",
       "        'PAY_AMT1', 'PAY_AMT2', 'PAY_AMT3', 'PAY_AMT4', 'PAY_AMT5',\n",
       "        'PAY_AMT6', 'p0', 'p1', 'p2', 'p3', 'p4', 'p5', 'b0', 'b1', 'b2',\n",
       "        'b3', 'b4', 'b5', 'ta0', 'ta1', 'ta2', 'ta3', 'ta4', 'ta5', 'SC',\n",
       "        'default payment next month'], dtype='<U26'),\n",
       " (43,))"
      ]
     },
     "execution_count": 385,
     "metadata": {},
     "output_type": "execute_result"
    }
   ],
   "source": [
    "cols = np.transpose(df.columns.tolist())\n",
    "cols, cols.shape"
   ]
  },
  {
   "cell_type": "code",
   "execution_count": 386,
   "id": "24c46f9b",
   "metadata": {},
   "outputs": [
    {
     "data": {
      "text/plain": [
       "array(['LIMIT_BAL', 'SEX', 'EDUCATION', 'MARRIAGE', 'AGE', 'PAY_0',\n",
       "       'PAY_2', 'PAY_3', 'PAY_4', 'PAY_5', 'PAY_6', 'BILL_AMT1',\n",
       "       'BILL_AMT2', 'BILL_AMT3', 'BILL_AMT4', 'BILL_AMT5', 'BILL_AMT6',\n",
       "       'PAY_AMT1', 'PAY_AMT2', 'PAY_AMT3', 'PAY_AMT4', 'PAY_AMT5',\n",
       "       'PAY_AMT6', 'p0', 'p1', 'p2', 'p3', 'p4', 'p5', 'b0', 'b1', 'b2',\n",
       "       'b3', 'b4', 'b5', 'ta0', 'ta1', 'ta2', 'ta3', 'ta4', 'ta5', 'SC'],\n",
       "      dtype='<U26')"
      ]
     },
     "execution_count": 386,
     "metadata": {},
     "output_type": "execute_result"
    }
   ],
   "source": [
    "colsX = cols[0:len(cols)-1]\n",
    "#colsX = cols[0:23]\n",
    "colsX"
   ]
  },
  {
   "cell_type": "code",
   "execution_count": 387,
   "id": "e6d5c902",
   "metadata": {},
   "outputs": [
    {
     "data": {
      "text/plain": [
       "(29134, 42)"
      ]
     },
     "execution_count": 387,
     "metadata": {},
     "output_type": "execute_result"
    }
   ],
   "source": [
    "X = df[colsX].values\n",
    "X.shape"
   ]
  },
  {
   "cell_type": "code",
   "execution_count": 388,
   "id": "e5ebbfb5",
   "metadata": {},
   "outputs": [
    {
     "data": {
      "text/plain": [
       "(29134,)"
      ]
     },
     "execution_count": 388,
     "metadata": {},
     "output_type": "execute_result"
    }
   ],
   "source": [
    "y = df['default payment next month'].values\n",
    "y.shape"
   ]
  },
  {
   "cell_type": "code",
   "execution_count": 389,
   "id": "1dd962a0",
   "metadata": {},
   "outputs": [],
   "source": [
    "from sklearn.preprocessing import StandardScaler\n",
    "from sklearn.model_selection import train_test_split\n",
    "\n",
    "from sklearn.svm import SVC"
   ]
  },
  {
   "cell_type": "code",
   "execution_count": 390,
   "id": "c440ad94",
   "metadata": {},
   "outputs": [],
   "source": [
    "from sklearn.metrics import roc_auc_score, accuracy_score, classification_report, roc_curve"
   ]
  },
  {
   "cell_type": "code",
   "execution_count": 391,
   "id": "aae4883f",
   "metadata": {},
   "outputs": [
    {
     "data": {
      "text/plain": [
       "(2.0672395035958287e-18, 0.9999999999999999)"
      ]
     },
     "execution_count": 391,
     "metadata": {},
     "output_type": "execute_result"
    }
   ],
   "source": [
    "X = StandardScaler().fit(X).transform(X)\n",
    "X.mean(), X.std()"
   ]
  },
  {
   "cell_type": "code",
   "execution_count": 392,
   "id": "7df61001",
   "metadata": {},
   "outputs": [
    {
     "data": {
      "text/plain": [
       "((20393, 42), (8741, 42))"
      ]
     },
     "execution_count": 392,
     "metadata": {},
     "output_type": "execute_result"
    }
   ],
   "source": [
    "X_tr, X_t, y_tr, y_t = train_test_split(X, y, test_size=0.3, random_state=100)\n",
    "X_tr.shape, X_t.shape"
   ]
  },
  {
   "cell_type": "code",
   "execution_count": 393,
   "id": "c95f0020",
   "metadata": {},
   "outputs": [],
   "source": [
    "clf = SVC(probability=True, kernel='linear', gamma='auto', max_iter = -1) # -1 default\n",
    "clf.fit(X_tr, y_tr)\n",
    "y_p = clf.predict(X_t)"
   ]
  },
  {
   "cell_type": "code",
   "execution_count": 394,
   "id": "4464982c",
   "metadata": {},
   "outputs": [],
   "source": [
    "predicted_probability = clf.predict_proba(X_t)"
   ]
  },
  {
   "cell_type": "code",
   "execution_count": 395,
   "id": "956376c7",
   "metadata": {},
   "outputs": [
    {
     "data": {
      "text/plain": [
       "array([[0.85792378, 0.14207622],\n",
       "       [0.85790941, 0.14209059],\n",
       "       [0.85793378, 0.14206622],\n",
       "       [0.85790714, 0.14209286],\n",
       "       [0.85793856, 0.14206144]])"
      ]
     },
     "execution_count": 395,
     "metadata": {},
     "output_type": "execute_result"
    }
   ],
   "source": [
    "predicted_probability[0:5]"
   ]
  },
  {
   "cell_type": "code",
   "execution_count": 396,
   "id": "0b9e1308",
   "metadata": {},
   "outputs": [
    {
     "name": "stdout",
     "output_type": "stream",
     "text": [
      "ROC score :  0.6865095885780561 , accuracy:  0.8124928497883538\n"
     ]
    }
   ],
   "source": [
    "print(\"ROC score : \", roc_auc_score(y_t, y_p), \", accuracy: \", accuracy_score(y_t, y_p))"
   ]
  },
  {
   "cell_type": "raw",
   "id": "0a6848e3",
   "metadata": {},
   "source": [
    "With svm.SVC the raw data ML metric\n",
    "\n",
    "ROC score :  0.632305476219272 , accuracy:  0.8192426495824277\n",
    "\n",
    "With svm.SVC the processed data ML metric \n",
    "\n",
    "ROC score :  0.6865095885780561 , accuracy:  0.8124928497883538\n",
    "\n",
    "SVC(probability=True, kernel='linear', gamma='scale')\n",
    "ROC score :  0.6865095885780561 , accuracy:  0.8124928497883538\n",
    "\n",
    "\n",
    "kernel coefficient 'gamma' does not make any change\n",
    "SVC(probability=True, kernel='linear', gamma='auto')\n",
    "ROC score :  0.6865095885780561 , accuracy:  0.8124928497883538\n",
    "\n",
    "SVC(probability=True, kernel='linear', gamma='auto', max_iter = -1)\n",
    "ROC score :  0.6865095885780561 , accuracy:  0.8124928497883538\n"
   ]
  },
  {
   "cell_type": "raw",
   "id": "2449c2b3",
   "metadata": {},
   "source": [
    "all cols: kernel='rbf' : ROC score :  0.6675740851001808 accuracy:  0.8209587003775312 * regularized \n",
    "\n",
    "with 'linear' kernel roc gets better since svm decision boundary selection agrees more with linear kernel \n",
    "ROC score :  0.6865095885780561 , accuracy:  0.8124928497883538\n",
    "\n",
    "'poly' kernel and 'rbf' response the same way\n",
    "\n",
    "ROC score :  0.6660617210443238 , accuracy:  0.8170689852419631\n",
    "\n",
    "'sigmoid' kernel it not good:\n",
    "\n",
    "ROC score :  0.6052376289666851 , accuracy:  0.7340121267589521\n",
    "\n",
    "\n",
    "all cols: ROC score :  0.5 accuracy:  0.784921633680357     ** svm.SVC does not come along with regularizarion "
   ]
  },
  {
   "cell_type": "code",
   "execution_count": 397,
   "id": "1c688dbf",
   "metadata": {},
   "outputs": [],
   "source": [
    "FPR, TPR, _ = roc_curve(y_t,predicted_probability[:,1])\n",
    "fpr_nc, tpr_nc, _ = roc_curve(y_t, np.zeros(len(y_t)))"
   ]
  },
  {
   "cell_type": "code",
   "execution_count": 398,
   "id": "208c7ae8",
   "metadata": {},
   "outputs": [
    {
     "data": {
      "image/png": "[encoded data removed]",
      "text/plain": [
       "<Figure size 432x288 with 1 Axes>"
      ]
     },
     "metadata": {
      "needs_background": "light"
     },
     "output_type": "display_data"
    }
   ],
   "source": [
    "plt.plot(FPR, TPR, 'd b', MarkerSize=1.2)\n",
    "plt.plot(fpr_nc, tpr_nc, 'g', linestyle=\"--\")\n",
    "plt.xlabel(\"FPR\")\n",
    "plt.ylabel(\"TPR\")\n",
    "plt.title(\"ROC Curve\")\n",
    "plt.show()"
   ]
  },
  {
   "cell_type": "code",
   "execution_count": null,
   "id": "8628fbbd",
   "metadata": {},
   "outputs": [],
   "source": []
  },
  {
   "cell_type": "code",
   "execution_count": null,
   "id": "6452bd41",
   "metadata": {},
   "outputs": [],
   "source": []
  }
 ],
 "metadata": {
  "kernelspec": {
   "display_name": "Python 3",
   "language": "python",
   "name": "python3"
  },
  "language_info": {
   "codemirror_mode": {
    "name": "ipython",
    "version": 3
   },
   "file_extension": ".py",
   "mimetype": "text/x-python",
   "name": "python",
   "nbconvert_exporter": "python",
   "pygments_lexer": "ipython3",
   "version": "3.8.8"
  }
 },
 "nbformat": 4,
 "nbformat_minor": 5
}
