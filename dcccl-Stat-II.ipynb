{
 "cells": [
  {
   "cell_type": "code",
   "execution_count": 1,
   "id": "b880f72a",
   "metadata": {},
   "outputs": [],
   "source": [
    "import pandas as pd\n",
    "import numpy as np\n",
    "from numpy.random import seed\n",
    "\n",
    "import warnings\n",
    "warnings.filterwarnings(\"ignore\")\n",
    "\n",
    "import matplotlib.pyplot as plt\n",
    "import seaborn as sns\n",
    "\n",
    "from scipy.stats import norm, ttest_ind, t"
   ]
  },
  {
   "cell_type": "code",
   "execution_count": 2,
   "id": "745338f8",
   "metadata": {},
   "outputs": [],
   "source": [
    "df = pd.read_csv(\"default_of_credit_card_client_processed.csv\")\n",
    "del df['Unnamed: 0']"
   ]
  },
  {
   "cell_type": "code",
   "execution_count": 3,
   "id": "12250ee6",
   "metadata": {},
   "outputs": [
    {
     "data": {
      "text/plain": [
       "array(['ID', 'LIMIT_BAL', 'SEX', 'EDUCATION', 'MARRIAGE', 'AGE', 'PAY_0',\n",
       "       'PAY_2', 'PAY_3', 'PAY_4', 'PAY_5', 'PAY_6', 'BILL_AMT1',\n",
       "       'BILL_AMT2', 'BILL_AMT3', 'BILL_AMT4', 'BILL_AMT5', 'BILL_AMT6',\n",
       "       'PAY_AMT1', 'PAY_AMT2', 'PAY_AMT3', 'PAY_AMT4', 'PAY_AMT5',\n",
       "       'PAY_AMT6', 'p0', 'p1', 'p2', 'p3', 'p4', 'p5', 'b0', 'b1', 'b2',\n",
       "       'b3', 'b4', 'b5', 'ta0', 'ta1', 'ta2', 'ta3', 'ta4', 'ta5', 'SC',\n",
       "       'default payment next month'], dtype='<U26')"
      ]
     },
     "execution_count": 3,
     "metadata": {},
     "output_type": "execute_result"
    }
   ],
   "source": [
    "cols = np.transpose(df.columns.tolist())\n",
    "cols"
   ]
  },
  {
   "cell_type": "code",
   "execution_count": 4,
   "id": "e68b27ba",
   "metadata": {},
   "outputs": [
    {
     "data": {
      "text/plain": [
       "(29134, 44)"
      ]
     },
     "execution_count": 4,
     "metadata": {},
     "output_type": "execute_result"
    }
   ],
   "source": [
    "df.shape"
   ]
  },
  {
   "cell_type": "code",
   "execution_count": 5,
   "id": "91965042",
   "metadata": {},
   "outputs": [
    {
     "data": {
      "text/plain": [
       "array(['BILL_AMT1', 'BILL_AMT2', 'BILL_AMT3', 'BILL_AMT4', 'BILL_AMT5',\n",
       "       'BILL_AMT6'], dtype='<U26')"
      ]
     },
     "execution_count": 5,
     "metadata": {},
     "output_type": "execute_result"
    }
   ],
   "source": [
    "cols[12:18]"
   ]
  },
  {
   "cell_type": "code",
   "execution_count": 6,
   "id": "e20addaa",
   "metadata": {},
   "outputs": [],
   "source": [
    "for c in cols[12:18]:\n",
    "    df = df[df[c] != 0 ]"
   ]
  },
  {
   "cell_type": "code",
   "execution_count": 7,
   "id": "ade2a817",
   "metadata": {},
   "outputs": [
    {
     "data": {
      "text/plain": [
       "(23887, 44)"
      ]
     },
     "execution_count": 7,
     "metadata": {},
     "output_type": "execute_result"
    }
   ],
   "source": [
    "df.shape"
   ]
  },
  {
   "cell_type": "raw",
   "id": "6dd35a39",
   "metadata": {},
   "source": [
    "Balance could be negative means a client paid more than comparing to the expenditure !   "
   ]
  },
  {
   "cell_type": "code",
   "execution_count": 8,
   "id": "c6937eb6",
   "metadata": {},
   "outputs": [
    {
     "name": "stdout",
     "output_type": "stream",
     "text": [
      "964.511 \t -165.58 \t 60.65234345041236 \t 77.72070473802805\n",
      "983.931 \t -67.526 \t 58.98160250345376 \t 75.25172862104787\n",
      "1664.089 \t -157.264 \t 56.89514003432829 \t 73.39429184577821\n",
      "891.586 \t -170.0 \t 52.72228412944279 \t 68.14042528946696\n",
      "927.171 \t -81.334 \t 49.34691405366936 \t 64.3309960156949\n",
      "961.664 \t -339.603 \t 47.88062494243731 \t 63.01717604935877\n"
     ]
    }
   ],
   "source": [
    "for c in cols[12:18]:\n",
    "    print(df[c].max()/1000, '\\t', df[c].min()/1000, '\\t', df[c].mean()/1000, '\\t', df[c].std()/1000)"
   ]
  },
  {
   "cell_type": "code",
   "execution_count": 9,
   "id": "1ab0c144",
   "metadata": {},
   "outputs": [
    {
     "name": "stdout",
     "output_type": "stream",
     "text": [
      "873.552 \t\t 0.0 \t\t 6.38635299535312 \t\t 17.67199852092019\n",
      "1684.259 \t\t 0.0 \t\t 6.673244316992506 \t\t 24.788776240025182\n",
      "896.04 \t\t 0.0 \t\t 5.8913498137062 \t\t 18.574558270914906\n",
      "621.0 \t\t 0.0 \t\t 5.4584390254113115 \t\t 16.35659139136558\n",
      "426.529 \t\t 0.0 \t\t 5.487223510696194 \t\t 16.070688485061503\n",
      "527.143 \t\t 0.0 \t\t 5.804586846401809 \t\t 17.99164347699811\n"
     ]
    }
   ],
   "source": [
    "for c in cols[18:24]:\n",
    "    print(df[c].max()/1000, '\\t\\t', df[c].min()/1000, '\\t\\t', df[c].mean()/1000, '\\t\\t', df[c].std()/1000)"
   ]
  },
  {
   "cell_type": "code",
   "execution_count": 10,
   "id": "905f5cfa",
   "metadata": {},
   "outputs": [
    {
     "data": {
      "text/plain": [
       "array(['PAY_AMT1', 'PAY_AMT2', 'PAY_AMT3', 'PAY_AMT4', 'PAY_AMT5',\n",
       "       'PAY_AMT6'], dtype='<U26')"
      ]
     },
     "execution_count": 10,
     "metadata": {},
     "output_type": "execute_result"
    }
   ],
   "source": [
    "j = np.arange(0,6)\n",
    "cols[18+j]"
   ]
  },
  {
   "cell_type": "code",
   "execution_count": 11,
   "id": "5044d20d",
   "metadata": {},
   "outputs": [],
   "source": [
    "new_cols = ['R1', 'R2', 'R3', 'R4', 'R5', 'R6']\n",
    "i = 0\n",
    "\n",
    "for c in cols[12:18]:\n",
    "    df[new_cols[i]] = df[cols[18+i]]/df[c]\n",
    "    i += 1 "
   ]
  },
  {
   "cell_type": "code",
   "execution_count": 12,
   "id": "d8a7f391",
   "metadata": {},
   "outputs": [
    {
     "data": {
      "text/html": [
       "<div>\n",
       "<style scoped>\n",
       "    .dataframe tbody tr th:only-of-type {\n",
       "        vertical-align: middle;\n",
       "    }\n",
       "\n",
       "    .dataframe tbody tr th {\n",
       "        vertical-align: top;\n",
       "    }\n",
       "\n",
       "    .dataframe thead th {\n",
       "        text-align: right;\n",
       "    }\n",
       "</style>\n",
       "<table border=\"1\" class=\"dataframe\">\n",
       "  <thead>\n",
       "    <tr style=\"text-align: right;\">\n",
       "      <th></th>\n",
       "      <th>R1</th>\n",
       "      <th>R2</th>\n",
       "      <th>R3</th>\n",
       "      <th>R4</th>\n",
       "      <th>R5</th>\n",
       "      <th>R6</th>\n",
       "    </tr>\n",
       "  </thead>\n",
       "  <tbody>\n",
       "    <tr>\n",
       "      <th>1</th>\n",
       "      <td>0.000000</td>\n",
       "      <td>0.579710</td>\n",
       "      <td>0.372856</td>\n",
       "      <td>0.305623</td>\n",
       "      <td>0.000000</td>\n",
       "      <td>0.613309</td>\n",
       "    </tr>\n",
       "    <tr>\n",
       "      <th>2</th>\n",
       "      <td>0.051917</td>\n",
       "      <td>0.106937</td>\n",
       "      <td>0.073752</td>\n",
       "      <td>0.069779</td>\n",
       "      <td>0.066899</td>\n",
       "      <td>0.321564</td>\n",
       "    </tr>\n",
       "    <tr>\n",
       "      <th>3</th>\n",
       "      <td>0.042562</td>\n",
       "      <td>0.041859</td>\n",
       "      <td>0.024345</td>\n",
       "      <td>0.038850</td>\n",
       "      <td>0.036914</td>\n",
       "      <td>0.033844</td>\n",
       "    </tr>\n",
       "    <tr>\n",
       "      <th>4</th>\n",
       "      <td>0.232099</td>\n",
       "      <td>6.469312</td>\n",
       "      <td>0.279057</td>\n",
       "      <td>0.429799</td>\n",
       "      <td>0.035987</td>\n",
       "      <td>0.035492</td>\n",
       "    </tr>\n",
       "    <tr>\n",
       "      <th>5</th>\n",
       "      <td>0.038820</td>\n",
       "      <td>0.031804</td>\n",
       "      <td>0.011405</td>\n",
       "      <td>0.051562</td>\n",
       "      <td>0.050971</td>\n",
       "      <td>0.039952</td>\n",
       "    </tr>\n",
       "  </tbody>\n",
       "</table>\n",
       "</div>"
      ],
      "text/plain": [
       "         R1        R2        R3        R4        R5        R6\n",
       "1  0.000000  0.579710  0.372856  0.305623  0.000000  0.613309\n",
       "2  0.051917  0.106937  0.073752  0.069779  0.066899  0.321564\n",
       "3  0.042562  0.041859  0.024345  0.038850  0.036914  0.033844\n",
       "4  0.232099  6.469312  0.279057  0.429799  0.035987  0.035492\n",
       "5  0.038820  0.031804  0.011405  0.051562  0.050971  0.039952"
      ]
     },
     "execution_count": 12,
     "metadata": {},
     "output_type": "execute_result"
    }
   ],
   "source": [
    "df[new_cols].head()"
   ]
  },
  {
   "cell_type": "code",
   "execution_count": 13,
   "id": "8f56188e",
   "metadata": {},
   "outputs": [
    {
     "data": {
      "text/plain": [
       "((3057, 50), (20830, 50))"
      ]
     },
     "execution_count": 13,
     "metadata": {},
     "output_type": "execute_result"
    }
   ],
   "source": [
    "df[df['R6']>=1].shape, df[df['R6']<1].shape"
   ]
  },
  {
   "cell_type": "code",
   "execution_count": 14,
   "id": "8c7e0e44",
   "metadata": {},
   "outputs": [
    {
     "data": {
      "text/plain": [
       "(-1.8767036024644104, -1.0815601582046916, 85.32372203946001)"
      ]
     },
     "execution_count": 14,
     "metadata": {},
     "output_type": "execute_result"
    }
   ],
   "source": [
    "df['R1'].mean(), df['R6'].mean(), df['R2'].std()"
   ]
  },
  {
   "cell_type": "code",
   "execution_count": 15,
   "id": "eec89f5d",
   "metadata": {},
   "outputs": [
    {
     "data": {
      "text/plain": [
       "(11453.666666666666, -35436.0)"
      ]
     },
     "execution_count": 15,
     "metadata": {},
     "output_type": "execute_result"
    }
   ],
   "source": [
    "df['R1'].max(), df['R1'].min()"
   ]
  },
  {
   "cell_type": "code",
   "execution_count": 16,
   "id": "c5bff682",
   "metadata": {},
   "outputs": [],
   "source": [
    "v = df['default payment next month'].values\n",
    "del df['default payment next month']"
   ]
  },
  {
   "cell_type": "code",
   "execution_count": 17,
   "id": "020fdf7b",
   "metadata": {},
   "outputs": [],
   "source": [
    "df['default payment next month'] = v"
   ]
  },
  {
   "cell_type": "code",
   "execution_count": 18,
   "id": "bb876233",
   "metadata": {},
   "outputs": [
    {
     "data": {
      "text/plain": [
       "array(['ID', 'LIMIT_BAL', 'SEX', 'EDUCATION', 'MARRIAGE', 'AGE', 'PAY_0',\n",
       "       'PAY_2', 'PAY_3', 'PAY_4', 'PAY_5', 'PAY_6', 'BILL_AMT1',\n",
       "       'BILL_AMT2', 'BILL_AMT3', 'BILL_AMT4', 'BILL_AMT5', 'BILL_AMT6',\n",
       "       'PAY_AMT1', 'PAY_AMT2', 'PAY_AMT3', 'PAY_AMT4', 'PAY_AMT5',\n",
       "       'PAY_AMT6', 'p0', 'p1', 'p2', 'p3', 'p4', 'p5', 'b0', 'b1', 'b2',\n",
       "       'b3', 'b4', 'b5', 'ta0', 'ta1', 'ta2', 'ta3', 'ta4', 'ta5', 'SC',\n",
       "       'R1', 'R2', 'R3', 'R4', 'R5', 'R6', 'default payment next month'],\n",
       "      dtype='<U26')"
      ]
     },
     "execution_count": 18,
     "metadata": {},
     "output_type": "execute_result"
    }
   ],
   "source": [
    "cols = np.transpose(df.columns.tolist())\n",
    "cols"
   ]
  },
  {
   "cell_type": "code",
   "execution_count": 19,
   "id": "da31c9bf",
   "metadata": {},
   "outputs": [
    {
     "data": {
      "text/plain": [
       "array(['R1', 'R2', 'R3', 'R4', 'R5', 'R6'], dtype='<U26')"
      ]
     },
     "execution_count": 19,
     "metadata": {},
     "output_type": "execute_result"
    }
   ],
   "source": [
    "cols[43:49]"
   ]
  },
  {
   "cell_type": "code",
   "execution_count": 20,
   "id": "f419cbea",
   "metadata": {},
   "outputs": [
    {
     "data": {
      "text/plain": [
       "((18562, 50), (5325, 50))"
      ]
     },
     "execution_count": 20,
     "metadata": {},
     "output_type": "execute_result"
    }
   ],
   "source": [
    "df_1 = df[df['default payment next month']==0]\n",
    "df_0 = df[df['default payment next month']==1]\n",
    "df_1.shape, df_0.shape"
   ]
  },
  {
   "cell_type": "markdown",
   "id": "9d4ca59f",
   "metadata": {},
   "source": [
    "### stat-I"
   ]
  },
  {
   "cell_type": "code",
   "execution_count": 81,
   "id": "81a6fea2",
   "metadata": {},
   "outputs": [
    {
     "data": {
      "image/png": "[encoded data removed]",
      "text/plain": [
       "<Figure size 432x288 with 6 Axes>"
      ]
     },
     "metadata": {
      "needs_background": "light"
     },
     "output_type": "display_data"
    }
   ],
   "source": [
    "fig, axs = plt.subplots(6)\n",
    "j = 0\n",
    "p_values = []\n",
    "sigmaar1 = []\n",
    "muar1 = []\n",
    "\n",
    "sigmaar0 = []\n",
    "muar0 = []\n",
    "\n",
    "for c in cols[43:49]:\n",
    "    x1 = df_1[c].sort_values(ascending=True).values\n",
    "    x0 = df_0[c].sort_values(ascending=True).values\n",
    "    [t_, p_] = ttest_ind(x1, x0, equal_var=True)\n",
    "    p_values.append(p_)\n",
    "    x1_pdf = norm.pdf(x1, loc=np.mean(x1), scale=np.std(x1))\n",
    "    x0_pdf = norm.pdf(x0, loc=np.mean(x0), scale=np.std(x0))\n",
    "    mu1, sigma1 = norm.fit(x1_pdf)\n",
    "    sigmaar1.append(sigma1)\n",
    "    muar1.append(mu1)\n",
    "    mu0, sigma0 = norm.fit(x0_pdf)\n",
    "    sigmaar0.append(mu0)\n",
    "    muar0.append(sigmaar0)\n",
    "    axs[j].plot(x1, x1_pdf, color='red', alpha=0.4, label='non-default')\n",
    "    axs[j].plot(x0, x0_pdf, color='blue', alpha=0.7, label='default')\n",
    "    axs[j].legend()\n",
    "    j += 1\n"
   ]
  },
  {
   "cell_type": "code",
   "execution_count": 68,
   "id": "b39e95b7",
   "metadata": {},
   "outputs": [
    {
     "data": {
      "image/png": "[encoded data removed]",
      "text/plain": [
       "<Figure size 864x288 with 1 Axes>"
      ]
     },
     "metadata": {
      "needs_background": "light"
     },
     "output_type": "display_data"
    }
   ],
   "source": [
    "m = ['APR', 'MAY', 'JUN', 'JULY', 'AUG', 'SEP']\n",
    "plt.figure(figsize=(12,4))\n",
    "\n",
    "sns.regplot(x=np.arange(1,7), y=p_values)\n",
    "\n",
    "plt.title('Month-to-month pay-rate becomes stat. significant')\n",
    "plt.xticks(np.arange(1,7), m)\n",
    "plt.show()"
   ]
  },
  {
   "cell_type": "code",
   "execution_count": 85,
   "id": "d47f83a9",
   "metadata": {},
   "outputs": [
    {
     "data": {
      "image/png": "[encoded data removed]",
      "text/plain": [
       "<Figure size 432x288 with 1 Axes>"
      ]
     },
     "metadata": {
      "needs_background": "light"
     },
     "output_type": "display_data"
    }
   ],
   "source": [
    "plt.scatter(muar1, sigmaar1, marker=\"d\")\n",
    "plt.show()"
   ]
  },
  {
   "cell_type": "code",
   "execution_count": null,
   "id": "4baf6843",
   "metadata": {},
   "outputs": [],
   "source": []
  },
  {
   "cell_type": "code",
   "execution_count": null,
   "id": "3c04d970",
   "metadata": {},
   "outputs": [],
   "source": []
  },
  {
   "cell_type": "code",
   "execution_count": null,
   "id": "807356c1",
   "metadata": {},
   "outputs": [],
   "source": []
  },
  {
   "cell_type": "code",
   "execution_count": null,
   "id": "767e82b1",
   "metadata": {},
   "outputs": [],
   "source": []
  },
  {
   "cell_type": "code",
   "execution_count": null,
   "id": "bc68b81d",
   "metadata": {},
   "outputs": [],
   "source": []
  },
  {
   "cell_type": "code",
   "execution_count": null,
   "id": "211bcf8a",
   "metadata": {},
   "outputs": [],
   "source": []
  },
  {
   "cell_type": "code",
   "execution_count": null,
   "id": "c53ab495",
   "metadata": {},
   "outputs": [],
   "source": []
  }
 ],
 "metadata": {
  "kernelspec": {
   "display_name": "Python 3",
   "language": "python",
   "name": "python3"
  },
  "language_info": {
   "codemirror_mode": {
    "name": "ipython",
    "version": 3
   },
   "file_extension": ".py",
   "mimetype": "text/x-python",
   "name": "python",
   "nbconvert_exporter": "python",
   "pygments_lexer": "ipython3",
   "version": "3.8.8"
  }
 },
 "nbformat": 4,
 "nbformat_minor": 5
}
